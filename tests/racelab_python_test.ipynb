{
  "nbformat": 4,
  "nbformat_minor": 0,
  "metadata": {
    "colab": {
      "provenance": [],
      "collapsed_sections": [
        "YCoyCkNJrMXk"
      ],
      "include_colab_link": true
    },
    "kernelspec": {
      "name": "python3",
      "display_name": "Python 3"
    },
    "language_info": {
      "name": "python"
    }
  },
  "cells": [
    {
      "cell_type": "markdown",
      "metadata": {
        "id": "view-in-github",
        "colab_type": "text"
      },
      "source": [
        "<a href=\"https://colab.research.google.com/github/GitData-GA/racelab/blob/main/tests/racelab_python_test.ipynb\" target=\"_parent\"><img src=\"https://colab.research.google.com/assets/colab-badge.svg\" alt=\"Open In Colab\"/></a>"
      ]
    },
    {
      "cell_type": "markdown",
      "source": [
        "# Import current library"
      ],
      "metadata": {
        "id": "vYEOYYeO9bW-"
      }
    },
    {
      "cell_type": "code",
      "source": [
        "pip install racelab -q"
      ],
      "metadata": {
        "id": "6YnkVDBuvA1F"
      },
      "execution_count": null,
      "outputs": []
    },
    {
      "cell_type": "code",
      "source": [
        "import racelab as rl"
      ],
      "metadata": {
        "id": "Gzc8WzEHpJ-v"
      },
      "execution_count": null,
      "outputs": []
    },
    {
      "cell_type": "code",
      "source": [
        "# import sys\n",
        "# import os\n",
        "\n",
        "# !git clone -b dev https://github.com/GitData-GA/racelab.git racelab_dev\n",
        "\n",
        "# sys.path.insert(0, './racelab_dev/src')"
      ],
      "metadata": {
        "id": "izfqb3pc9d4k"
      },
      "execution_count": null,
      "outputs": []
    },
    {
      "cell_type": "markdown",
      "source": [
        "# Development"
      ],
      "metadata": {
        "id": "BsLkMzAbr2Ux"
      }
    },
    {
      "cell_type": "markdown",
      "source": [
        "## Test `load`\n",
        "\n",
        "Source code: https://github.com/GitData-GA/racelab/blob/main/src/racelab/load.py"
      ],
      "metadata": {
        "id": "2sB79q3X-xRJ"
      }
    },
    {
      "cell_type": "code",
      "source": [
        "track = rl.load(path=rl.deepracer.track('reInvent2019_track'))\n",
        "track.shape"
      ],
      "metadata": {
        "id": "Y7AlGNE_9022"
      },
      "execution_count": null,
      "outputs": []
    },
    {
      "cell_type": "markdown",
      "source": [
        "## Test `plot`\n",
        "\n",
        "Source code: https://github.com/GitData-GA/racelab/blob/main/src/racelab/plot.py"
      ],
      "metadata": {
        "id": "JIdBGt7m-4TZ"
      }
    },
    {
      "cell_type": "code",
      "source": [
        "rl.plot(track)"
      ],
      "metadata": {
        "id": "Rb-6TlQ4Rb8B"
      },
      "execution_count": null,
      "outputs": []
    },
    {
      "cell_type": "markdown",
      "source": [
        "## Test `optimize`\n",
        "\n",
        "Source code: https://github.com/GitData-GA/racelab/blob/main/src/racelab/optimize.py"
      ],
      "metadata": {
        "id": "1gdc32L3Wmwh"
      }
    },
    {
      "cell_type": "code",
      "source": [
        "optimal = rl.optimize(track, 'k1999', line_iterations=1000, xi_iterations=5, margin=0.25)"
      ],
      "metadata": {
        "id": "rjKdiqM2aw2m"
      },
      "execution_count": null,
      "outputs": []
    },
    {
      "cell_type": "code",
      "source": [
        "import numpy as np\n",
        "rl.plot(np.hstack((track, optimal)))"
      ],
      "metadata": {
        "id": "cj-T9TEarWlx"
      },
      "execution_count": null,
      "outputs": []
    }
  ]
}