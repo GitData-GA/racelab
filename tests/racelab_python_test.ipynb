{
  "nbformat": 4,
  "nbformat_minor": 0,
  "metadata": {
    "colab": {
      "provenance": [],
      "collapsed_sections": [
        "YCoyCkNJrMXk"
      ],
      "include_colab_link": true
    },
    "kernelspec": {
      "name": "python3",
      "display_name": "Python 3"
    },
    "language_info": {
      "name": "python"
    }
  },
  "cells": [
    {
      "cell_type": "markdown",
      "metadata": {
        "id": "view-in-github",
        "colab_type": "text"
      },
      "source": [
        "<a href=\"https://colab.research.google.com/github/GitData-GA/racelab/blob/main/tests/racelab_python_test.ipynb\" target=\"_parent\"><img src=\"https://colab.research.google.com/assets/colab-badge.svg\" alt=\"Open In Colab\"/></a>"
      ]
    },
    {
      "cell_type": "markdown",
      "source": [
        "# Import current library"
      ],
      "metadata": {
        "id": "vYEOYYeO9bW-"
      }
    },
    {
      "cell_type": "code",
      "source": [
        "pip install racelab -q"
      ],
      "metadata": {
        "id": "6YnkVDBuvA1F"
      },
      "execution_count": null,
      "outputs": []
    },
    {
      "cell_type": "code",
      "source": [
        "import racelab as rl"
      ],
      "metadata": {
        "id": "Gzc8WzEHpJ-v"
      },
      "execution_count": null,
      "outputs": []
    },
    {
      "cell_type": "code",
      "source": [
        "# import sys\n",
        "# import os\n",
        "\n",
        "# !git clone -b dev https://github.com/GitData-GA/racelab.git racelab_dev\n",
        "\n",
        "# sys.path.insert(0, './racelab_dev/src')"
      ],
      "metadata": {
        "id": "izfqb3pc9d4k"
      },
      "execution_count": null,
      "outputs": []
    },
    {
      "cell_type": "markdown",
      "source": [
        "# Development"
      ],
      "metadata": {
        "id": "BsLkMzAbr2Ux"
      }
    },
    {
      "cell_type": "markdown",
      "source": [
        "## Test `load`\n",
        "\n",
        "Source code: https://github.com/GitData-GA/racelab/blob/main/src/racelab/load.py"
      ],
      "metadata": {
        "id": "2sB79q3X-xRJ"
      }
    },
    {
      "cell_type": "code",
      "source": [
        "track = rl.load(path=rl.deepracer.track('reInvent2019_track'))\n",
        "track.shape"
      ],
      "metadata": {
        "id": "Y7AlGNE_9022"
      },
      "execution_count": null,
      "outputs": []
    },
    {
      "cell_type": "markdown",
      "source": [
        "## Test `plot`\n",
        "\n",
        "Source code: https://github.com/GitData-GA/racelab/blob/main/src/racelab/plot.py"
      ],
      "metadata": {
        "id": "JIdBGt7m-4TZ"
      }
    },
    {
      "cell_type": "code",
      "source": [
        "rl.plot(track)"
      ],
      "metadata": {
        "id": "Rb-6TlQ4Rb8B"
      },
      "execution_count": null,
      "outputs": []
    },
    {
      "cell_type": "markdown",
      "source": [
        "## Test `optimize`\n",
        "\n",
        "Source code: https://github.com/GitData-GA/racelab/blob/main/src/racelab/optimize.py"
      ],
      "metadata": {
        "id": "1gdc32L3Wmwh"
      }
    },
    {
      "cell_type": "code",
      "source": [
        "optimal = rl.optimize(track, 'k1999', line_iterations=6000, xi_iterations=5, margin=0.25)"
      ],
      "metadata": {
        "id": "rjKdiqM2aw2m"
      },
      "execution_count": null,
      "outputs": []
    },
    {
      "cell_type": "code",
      "source": [
        "import numpy as np\n",
        "rl.plot(np.hstack((track, optimal)))"
      ],
      "metadata": {
        "id": "cj-T9TEarWlx"
      },
      "execution_count": null,
      "outputs": []
    },
    {
      "cell_type": "markdown",
      "source": [
        "# Push to GitHub\n",
        "\n",
        "Make sure you have set up your GitHub token in this Colab notebook, which can be access through `userdata.get('gh_token')`."
      ],
      "metadata": {
        "id": "YCoyCkNJrMXk"
      }
    },
    {
      "cell_type": "code",
      "source": [
        "import os\n",
        "from datetime import datetime\n",
        "from google.colab import userdata\n",
        "import pytz\n",
        "os.system('git config --global user.email \"lyuan@gd.edu.kg\"')\n",
        "os.system('git config --global user.name \"lygitdata\"')\n",
        "repo_url = f\"https://{userdata.get('gh_token')}@github.com/GitData-GA/racelab.git\"\n",
        "os.system('rm -rf main')\n",
        "os.system(f'git clone --branch main {repo_url} main')\n",
        "source_dir = \"drive/MyDrive/racelab-python/racelab/*\"\n",
        "destination_dir = \"main\"\n",
        "os.system(f'cp -r {source_dir} {destination_dir}')\n",
        "os.chdir('main')\n",
        "os.system('git add .')\n",
        "os.system(f'git commit -m \"{datetime.now(pytz.timezone(\"UTC\")).strftime(\"%Y/%m/%d - %H:%M:%S\")} UTC\"')\n",
        "os.system('git push origin main')\n",
        "os.system('rm -r main')\n",
        "os.system('cd ..')"
      ],
      "metadata": {
        "id": "5qomiUhSl4TW"
      },
      "execution_count": null,
      "outputs": []
    }
  ]
}